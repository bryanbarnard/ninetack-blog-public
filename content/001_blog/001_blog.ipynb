{
 "cells": [
  {
   "cell_type": "markdown",
   "id": "dfa2aa63-7462-4cd6-b23b-770ff487b101",
   "metadata": {},
   "source": [
    "# Intro to semantic search with vector databases\n"
   ]
  },
  {
   "cell_type": "markdown",
   "id": "02c369fa-f39e-4da6-8f4b-018df2868c49",
   "metadata": {},
   "source": [
    "Large language models (LLMs) like GPT4 seem to get all the attention these days, but a lesser known component is equally important to power your AI application: semantic search.\n",
    "\n",
    "In this overview, we explain the basics of semantic search, embeddings, and vector databases.\n",
    "\n",
    "Let's go!"
   ]
  },
  {
   "cell_type": "markdown",
   "id": "db44c17c",
   "metadata": {},
   "source": [
    "### What is semantic search?\n",
    "\n",
    "Semantic search helps you to find similarities among datasets, whether among unstructured text, media, audio or structured data like tabular, log files, etc. Importantly, semantic search can find matching results based on the underlying *meaning* or similarity of data, as opposed to more traditional search based on keyword matches.\n",
    "\n",
    "Some of the top use cases for semantic search are:\n",
    "- Search engines\n",
    "- Recommendation engines\n",
    "- Anomaly detection\n",
    "- Duplicate detection\n",
    "- Retrieval augmented generative question/answer apps with LLMs"
   ]
  },
  {
   "cell_type": "markdown",
   "id": "73cbe9c7-f298-4572-9789-9ee4cda363fb",
   "metadata": {},
   "source": [
    "### What is a vector database?\n",
    "Vector databases are built for storing large amounts of vectorized data and enable running semantic search queries efficiently across the dataset.\n",
    "\n",
    "Some examples of vector databases are:\n",
    "- [Pinecone](https://www.pinecone.io/) - A fully hosted/managed vector DB\n",
    "- [Elastic vector DB](https://www.elastic.co/elasticsearch/vector-database) - A component of the Elastic Stack\n",
    "- [Weaviate](https://weaviate.io/) - An open source, hosted vector DB\n",
    "- [Chroma](https://www.trychroma.com/) - An open source vector DB"
   ]
  },
  {
   "cell_type": "markdown",
   "id": "fb174993-6e88-452c-9dd5-72f7f67f2480",
   "metadata": {},
   "source": [
    "### What are embeddings?\n",
    "Think of embeddings as a form of data encoding that preserves meaning. Embeddings are created using an embedding model suited for the task at hand, such as `text-embedding-ada-002` ([from OpenAI](https://platform.openai.com/docs/guides/embeddings/what-are-embeddings)) for text, or [ResNet-18](https://arxiv.org/abs/1512.03385) for image recognition.\n",
    "\n",
    "<figure align=\"middle\">\n",
    "  <img src=\"img/01a-embeddings.png\" width=\"800\"/>\n",
    "  <figcaption>Fig. 1a - Embeddings example</figcaption>\n",
    "</figure>"
   ]
  },
  {
   "cell_type": "markdown",
   "id": "35e85528-6f83-44ca-90c8-4f1e57c928b1",
   "metadata": {},
   "source": [
    "A vector embedding represents location coordinates of a point in a high-dimensional space. (For simplicity, imagine a simple 2-dimensional space, where locating a point requires [X, Y] coordinates.)\n",
    "\n",
    "<figure align=\"middle\">\n",
    "  <img src=\"img/01b-embeddings-simple.png\" width=\"800\"/>\n",
    "  <figcaption>Fig. 1b - Example of 2-dimensional embeddings</figcaption>\n",
    "</figure>\n",
    "\n",
    "The embeddings model translates the input data into the set of coordinates that define where the data should be located within the multi-dimensional space. *(Note that dimension size is dictated by the model--for example, the `text-embedding-ada-002` model has 1536 dimensions.)*"
   ]
  },
  {
   "cell_type": "markdown",
   "id": "f6cbc29a-f49f-4131-8c8e-5d85586834e3",
   "metadata": {},
   "source": [
    "### How does that help me find similar stuff?\n",
    "For input items that are more similar in meaning or similarity, the embeddings model produces coordinates that locate them closer together in the coordinate space."
   ]
  },
  {
   "cell_type": "markdown",
   "id": "5520551a-41f1-49bd-bb77-df0edf91602a",
   "metadata": {},
   "source": [
    "For example, the inputs:\n",
    "- `\"apple pie\"`\n",
    "- `\"cherry pie\"`\n",
    "\n",
    "will be located more closely together in the coordinate space than:\n",
    "- `\"cheddar cheese\"`\n",
    "\n",
    "<figure align=\"middle\">\n",
    "  <img src=\"img/02-xy-pie-vs-cheese.png\" width=\"600\"/>\n",
    "  <figcaption>Fig. 2 - Pie vs. cheese</figcaption>\n",
    "</figure>"
   ]
  },
  {
   "cell_type": "markdown",
   "id": "7ed2ce86-ba37-46a6-85fc-f89e84496392",
   "metadata": {},
   "source": [
    "What is less obvious is that because the semantic **meanings** and relationships among words are preserved in the embedding, an input such as:\n",
    "- `\"ice cream\"`\n",
    "\n",
    "would likely be located a bit closer to the *\"pie\"* sentences than to the *\"cheese\"* sentence, because of the fact that pie and ice cream are both related to the semantic concept of *\"dessert\"*. And further, sentences having to do with desserts would be located closer to other sentences having to do with food, than they would to sentences having to do with electric cars.\n",
    "\n",
    "<figure align=\"middle\">\n",
    "  <img src=\"img/03-xy-dessert-foods-ev.png\" width=\"600\"/>\n",
    "  <figcaption>Fig. 3 - Desserts, foods and EVs</figcaption>\n",
    "</figure>"
   ]
  },
  {
   "cell_type": "markdown",
   "id": "f2b28457-3f54-4385-a883-81a175b238dd",
   "metadata": {},
   "source": [
    "### How do I lookup data in a vector database?\n",
    "The short answer is that you don't! The vector DB does that for you, and thank goodness, because there's a LOT going on to make it happen—and it feels like magic.\n",
    "\n",
    "Unlike with traditional relational DBs, NoSQL DBs, blob storage, etc, data in vector DBs is found via similarity searches. Your objective when querying a vector DB is to *\"find me the K-number-of-things that are most similar to this thing that I'm searching for\"*.\n",
    "\n",
    "<figure align=\"middle\">\n",
    "  <img src=\"img/04-xy-search-cheesecake.png\" width=\"600\"/>\n",
    "  <figcaption>Fig. 4 - Smaller distances indicate similarity</figcaption>\n",
    "</figure>"
   ]
  },
  {
   "cell_type": "markdown",
   "id": "f3d2bb06-9b08-4278-8de3-9fe52f6913f9",
   "metadata": {},
   "source": [
    "To perform a search for `\"cheesecake\"`, we likewise need to create vector embeddings for \"cheesecake\", locate it within the vector space, and then just measure the distance to other points in the vector space. The closer two points are to each other, the more strongly correlated their semantic meanings are."
   ]
  },
  {
   "cell_type": "markdown",
   "id": "cf63f81a",
   "metadata": {},
   "source": [
    "### A note on similarity metrics\n",
    "\n",
    "In this conceptual overview, we have assumed the use of the [*Euclidean distance*](https://en.wikipedia.org/wiki/Euclidean_distance) similarity metric for determining similarity between two vectors.\n",
    "\n",
    "It's important to know that there are other similarity metric options, such as *Cosine* and *Dot Product*. \n",
    "\n",
    "For the purposes of this high level overview, it's not important to understand the specific differences between them, as conceptually it shouldn't affect your mental model for understanding vector search overall.\n",
    " \n",
    "In practice of course, the details do matter. If you'd like to learn more, this article from Pinecone provides a nice overview of the different similarity metrics: [Vector Similarity Explained](https://www.pinecone.io/learn/vector-similarity/)."
   ]
  },
  {
   "cell_type": "markdown",
   "id": "3e434e14",
   "metadata": {},
   "source": [
    "### Wrap-Up\n",
    "\n",
    "As you can see, vector search is powerful and key component of almost every modern AI application.\n",
    "\n",
    "We'd love to talk with you about how you're planning to incorporate vector search in your next AI application. Connect with us today!"
   ]
  }
 ],
 "metadata": {
  "kernelspec": {
   "display_name": "Python 3 (ipykernel)",
   "language": "python",
   "name": "python3"
  },
  "language_info": {
   "codemirror_mode": {
    "name": "ipython",
    "version": 3
   },
   "file_extension": ".py",
   "mimetype": "text/x-python",
   "name": "python",
   "nbconvert_exporter": "python",
   "pygments_lexer": "ipython3",
   "version": "3.10.11"
  }
 },
 "nbformat": 4,
 "nbformat_minor": 5
}
