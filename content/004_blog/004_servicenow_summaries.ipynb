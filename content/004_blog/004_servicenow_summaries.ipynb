{
  "nbformat": 4,
  "nbformat_minor": 0,
  "metadata": {
    "colab": {
      "provenance": [],
      "authorship_tag": "ABX9TyPjaOAHTCI3wV+yQaDx9x7F"
    },
    "kernelspec": {
      "name": "python3",
      "display_name": "Python 3"
    },
    "language_info": {
      "name": "python"
    }
  },
  "cells": [
    {
      "cell_type": "markdown",
      "source": [
        "# Summarizing Customer Support Cases with LLMs, Langchain and ServiceNow"
      ],
      "metadata": {
        "id": "6zW751ZCsIJU"
      }
    },
    {
      "cell_type": "markdown",
      "source": [
        "This Jupyter Notebook accompanies the blog post: <insert blogpost> and provides a simple example of using the OpenAI gpt 3.5 turbo LLM to generate a summary for ServiceNow Customer Support Cases."
      ],
      "metadata": {
        "id": "Tsp1Eh4b9bwV"
      }
    },
    {
      "cell_type": "code",
      "source": [
        "! python -m pip install openai langchain python-dotenv requests"
      ],
      "metadata": {
        "id": "IprhQBwM3WJl"
      },
      "execution_count": null,
      "outputs": []
    },
    {
      "cell_type": "markdown",
      "source": [
        "**Environment variables**\n",
        "\n",
        "We need to set an evnironment variable to specify your OpenAI API Key.\n",
        "You can edit the code below to set them directly.\n",
        "\n",
        "* `OPENAI_API_KEY` - Your OpenAI API key\n",
        "\n",
        "If a local `.env` file exists, load the env vars from it.\n",
        "\n",
        "\n",
        "\n"
      ],
      "metadata": {
        "id": "6hVMWOQ5E6OK"
      }
    },
    {
      "cell_type": "code",
      "source": [
        "from dotenv import load_dotenv\n",
        "load_dotenv()"
      ],
      "metadata": {
        "colab": {
          "base_uri": "https://localhost:8080/"
        },
        "id": "FwDP_ZD1FgbU",
        "outputId": "22b98236-66e5-4036-d38b-b887315125a4"
      },
      "execution_count": null,
      "outputs": [
        {
          "output_type": "execute_result",
          "data": {
            "text/plain": [
              "False"
            ]
          },
          "metadata": {},
          "execution_count": 5
        }
      ]
    },
    {
      "cell_type": "code",
      "source": [
        "import os\n",
        "\n",
        "print(\"Check environment\\n---------------------\")\n",
        "openai_api_key = os.environ.get('OPENAI_API_KEY') or \"YOUR OPENAI API KEY\"\n",
        "print(\"openai_api_key:\", openai_api_key[:5], \"...\")\n"
      ],
      "metadata": {
        "id": "jcyhjcAn7Hid",
        "colab": {
          "base_uri": "https://localhost:8080/"
        },
        "outputId": "21825f71-6c9b-4ab4-b2f5-ea48fff176b9"
      },
      "execution_count": null,
      "outputs": [
        {
          "output_type": "stream",
          "name": "stdout",
          "text": [
            "Check environment\n",
            "---------------------\n",
            "openai_api_key: YOUR  ...\n"
          ]
        }
      ]
    },
    {
      "cell_type": "markdown",
      "source": [
        "If your output looks similar to this, then you're ready to go!\n",
        "\n",
        "openai_api_key: sk-7w ..."
      ],
      "metadata": {
        "id": "MunXWEKWGBk3"
      }
    },
    {
      "cell_type": "code",
      "source": [
        "import json\n",
        "import requests\n",
        "import base64\n",
        "from langchain import PromptTemplate\n",
        "import openai\n",
        "\n",
        "openai.api_key = openai_api_key\n",
        "\n",
        "qa_template_str = \"\"\"Use the following pieces of context to answer the question at the end.\n",
        "If you don't know the answer, just say that you don't know, don't try to make up an answer.\n",
        "\n",
        "Context:\n",
        "-----------------\n",
        "Customer Support Case{context}\n",
        "-----------------\n",
        "\n",
        "Question: {question}\n",
        "Short Answer:\"\"\"\n",
        "qa_template = PromptTemplate(template=qa_template_str, input_variables=[\"context\", \"question\"])\n",
        "\n",
        "def run_llm_qa_prompt(context: str, question: str):\n",
        "    qa_prompt = qa_template.format(context=context, question=question)\n",
        "    print(\">>> Prompt Start >>>>>>>>>>>>>>>>>>>>>>>>>>>\")\n",
        "    print(qa_prompt)\n",
        "    print(\"<<< Prompt End <<<<<<<<<<<<<<<<<<<<<<<<<<<<<\")\n",
        "\n",
        "    response = openai.ChatCompletion.create(\n",
        "        model=\"gpt-3.5-turbo\",\n",
        "        messages=[{\"role\": \"system\", \"content\": qa_prompt}],\n",
        "        temperature=0.0\n",
        "    )\n",
        "\n",
        "    answer = response['choices'][0]['message']['content'].strip()\n",
        "    print(\"\\nLLM Response:\", answer)\n",
        "    return answer"
      ],
      "metadata": {
        "id": "PmMj3VP3F5h7"
      },
      "execution_count": null,
      "outputs": []
    },
    {
      "cell_type": "code",
      "source": [
        "# example customer case from ServiceNow\n",
        "customer_case = {\n",
        "        \"sys_updated_on\": \"2023-09-15 11:01:05\",\n",
        "        \"number\": \"CS0001014\",\n",
        "        \"initiated_as_request\": \"false\",\n",
        "        \"state\": \"Resolved\",\n",
        "        \"case\": \"Performance Issue when downloading Reports CS0001026\",\n",
        "        \"sys_created_by\": \"admin\",\n",
        "        \"impact\": \"3 - Low\",\n",
        "        \"active\": \"true\",\n",
        "        \"auto_created_case\": \"false\",\n",
        "        \"priority\": \"1 - Critical\",\n",
        "        \"first_response_time\": \"2023-09-11 02:25:24\",\n",
        "        \"needs_attention\": \"false\",\n",
        "        \"short_description\": \"Analytics Suite Blackout\",\n",
        "        \"assigned_to\": \"Emily Doe\",\n",
        "        \"product\": \"ACME Corporation Analytics Suite 2016\",\n",
        "        \"comments_and_work_notes\": \"2023-09-15 14:53:07 - System (Additional comments)\\nPlease follow this link to see a detailed review of the case: [code]<a href=\\\"/sys_attachment.do?sys_id=ca04f000db19330092daf3c61d961984\\\" target=\\\"_blank\\\">Post Case Review - 2019-05-03 21:53:06.pdf</a>[/code].\\n\\n2023-09-05 20:08:55 - Beth Anglin (Work notes)\\nAdded as a child of CS0001015\\n\\n2023-09-05 20:07:40 - Emily Jason (Work notes)\\nProposed as major case candidate\\nMultiple Customers affected by the Blackout\\n\\n\",\n",
        "        \"asset\": \"ACME Corporation Analytics Suite 2016\",\n",
        "        \"made_sla\": \"true\",\n",
        "        \"task_effective_number\": \"CS0001026\",\n",
        "        \"resolved_by\": \"System Administrator\",\n",
        "        \"sys_updated_by\": \"system\",\n",
        "        \"opened_by\": \"System Administrator\",\n",
        "        \"sys_created_on\": \"2023-09-05 22:11:53\",\n",
        "        \"contact\": \"Sam Doe\",\n",
        "        \"subcategory\": \"Question\",\n",
        "        \"work_notes\": \"2023-09-05 20:08:55 - Beth Anglin (Work notes)\\nAdded as a child of CS0001015\\n\\n2023-09-05 20:07:40 - Emily Jason (Work notes)\\nProposed as major case candidate\\nMultiple Customers affected by the Blackout\\n\\n\",\n",
        "        \"assignment_group\": \"ACME Support\",\n",
        "        \"close_notes\": \"Issue resolved.\",\n",
        "        \"sys_id\": \"289276b4db4d330092daf3c61d9619d2\",\n",
        "        \"contact_type\": \"Web\",\n",
        "        \"resolution_code\": \"Solved – Fixed by Support/Guidance provided\",\n",
        "        \"probable_cause\": \"\",\n",
        "        \"approval\": \"Not Yet Requested\",\n",
        "        \"sys_mod_count\": \"12\",\n",
        "        \"internal_user\": \"\",\n",
        "        \"account\": \"ACME\"\n",
        "    }\n",
        "\n",
        "\n",
        "\n"
      ],
      "metadata": {
        "id": "GhQymups8N30"
      },
      "execution_count": null,
      "outputs": []
    },
    {
      "cell_type": "code",
      "source": [
        "# OPTIONAL CODE TO GET THE JSON of an actual Case from ServiceNow using the Table API\n",
        "# specify servicenow instance_id and credentials to use when calling the ServiceNow table API\n",
        "sn_uid = os.environ.get('SERVICENOW_USER_ID') or \"YOUR SERVICENOW USER ID\"\n",
        "sn_pwd = os.environ.get('SERVICENOW_PWD') or \"YOUR SERVICENOW INSTANCE PASSWORD\"\n",
        "sn_instance_id = os.environ.get('SERVICENOW_INSTANCE_ID') or \"YOUR SERVICENOW INSTANCE ID\"\n",
        "\n",
        "print(\"Servicenow instance connection details:\")\n",
        "print(\"sn_uid:\", sn_uid)\n",
        "print(\"sn_pwd:\", sn_pwd[:5], \"...\")\n",
        "print(f\"sn_instance_id: {sn_instance_id}\\n\")\n",
        "\n",
        "url = \"https://\" + sn_instance_id + \".service-now.com/api/now/table/sn_customerservice_case?sysparm_display_value=true&sysparm_exclude_reference_link=true&number=CS0001014\"\n",
        "# generate auth header\n",
        "auth_str = f\"{sn_uid}:{sn_pwd}\"\n",
        "auth_string_bytes = auth_str.encode(\"ascii\")\n",
        "auth_string_bytes_b64 = base64.b64encode(auth_string_bytes)\n",
        "auth_header = f\"Basic {str(auth_string_bytes_b64, encoding='utf-8')}\"\n",
        "\n",
        "payload = {}\n",
        "headers = {\"Authorization\": auth_header}\n",
        "\n",
        "response = requests.request(\"GET\", url, headers=headers, data=payload)\n",
        "if response.status_code == requests.codes.ok:\n",
        "  print(f'Request to ServiceNow API Successful, returned 200 OK\\n\\n')\n",
        "else:\n",
        "  print(f\"Failed making request to ServiceNow API, returned {response.status_code}. Check to make sure your instance is awake and accessible via the web portal.\\n\\n\")\n",
        "\n",
        "customer_case = response.json()[\"result\"][0]\n",
        "customer_case"
      ],
      "metadata": {
        "id": "ywmBohFjIkJm"
      },
      "execution_count": null,
      "outputs": []
    },
    {
      "cell_type": "code",
      "source": [
        "# set the ServiceNow Customer Service Case as context\n",
        "context = json.dumps(customer_case)\n",
        "\n",
        "# instruct the LLM what you want it to do and how you would like your output formatted\n",
        "question = \"please summarize the work notes in two sentences and include the number and state field in your answer\"\n",
        "\n",
        "# generate summary from llm\n",
        "run_llm_qa_prompt(context, question)\n"
      ],
      "metadata": {
        "id": "4QS5oQft6hym"
      },
      "execution_count": null,
      "outputs": []
    }
  ]
}